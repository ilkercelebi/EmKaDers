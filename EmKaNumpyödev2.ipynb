{
 "cells": [
  {
   "cell_type": "code",
   "execution_count": 1,
   "id": "9bea49ff",
   "metadata": {},
   "outputs": [],
   "source": [
    "import numpy as np"
   ]
  },
  {
   "cell_type": "code",
   "execution_count": 2,
   "id": "a4dde24f",
   "metadata": {},
   "outputs": [
    {
     "data": {
      "text/plain": [
       "array([[ 0,  1],\n",
       "       [ 2,  3],\n",
       "       [ 4,  5],\n",
       "       [ 6,  7],\n",
       "       [ 8,  9],\n",
       "       [10, 11],\n",
       "       [12, 13],\n",
       "       [14, 15],\n",
       "       [16, 17],\n",
       "       [18, 19],\n",
       "       [20, 21],\n",
       "       [22, 23],\n",
       "       [24, 25],\n",
       "       [26, 27],\n",
       "       [28, 29]])"
      ]
     },
     "execution_count": 2,
     "metadata": {},
     "output_type": "execute_result"
    }
   ],
   "source": [
    "#1) 0-29 arası(29 dahil, toplam 30 tam sayı) tam sayılardan oluşan bir boyutlu bir array oluşturun ardından bu array'in shape'ini (15,2) şeklinde güncelleyip 2 boyutlu hale getirin.\n",
    "ar = np.arange(0,30).reshape(15,2)\n",
    "ar"
   ]
  },
  {
   "cell_type": "code",
   "execution_count": 11,
   "id": "4a9fe833",
   "metadata": {},
   "outputs": [
    {
     "data": {
      "text/plain": [
       "3"
      ]
     },
     "execution_count": 11,
     "metadata": {},
     "output_type": "execute_result"
    }
   ],
   "source": [
    "#2) 60 adet rastgele tam sayı verilerinden oluşan bir boyutlu bir array oluşturun. Devamında bu array'i istediğiniz shapelerde 3 boyutlu hale getirin ve son durumda oluşan array'in boyutunu ve shape'ini kontrol edin.\n",
    "ar1=np.random.randint(0,100,60).reshape(15,2,-1)\n",
    "ar1.shape\n",
    "ar1.ndim"
   ]
  },
  {
   "cell_type": "code",
   "execution_count": 21,
   "id": "49564a01",
   "metadata": {},
   "outputs": [
    {
     "data": {
      "text/plain": [
       "1"
      ]
     },
     "execution_count": 21,
     "metadata": {},
     "output_type": "execute_result"
    }
   ],
   "source": [
    "#3) 20 elemanlı ve sadece rakamlardan oluşan iki boyutlu bir array oluşturun. Ardından bu array'i düzleştirin ve tek boyutlu hale getirin ve son durumda oluşan array'in boyutunu ve shape'ini kontrol edin.\n",
    "ar2= np.random.randint(0,10,20).reshape(5,4)\n",
    "ar2\n",
    "ar3 =ar2.reshape(-1)\n",
    "ar3.shape\n",
    "ar3.ndim"
   ]
  },
  {
   "cell_type": "code",
   "execution_count": 23,
   "id": "de383e80",
   "metadata": {},
   "outputs": [
    {
     "name": "stdout",
     "output_type": "stream",
     "text": [
      "[8 8 0 7]\n",
      "[0 5 4 2]\n",
      "[2 0 8 5]\n",
      "[3 1 4 1]\n",
      "[5 7 0 4]\n",
      "8\n",
      "8\n",
      "0\n",
      "7\n",
      "0\n",
      "5\n",
      "4\n",
      "2\n",
      "2\n",
      "0\n",
      "8\n",
      "5\n",
      "3\n",
      "1\n",
      "4\n",
      "1\n",
      "5\n",
      "7\n",
      "0\n",
      "4\n"
     ]
    }
   ],
   "source": [
    "#4) İstediğiniz herhangi elemanlardan oluşan 2 Boyutlu bir array oluşturun. Oluşturduğunuz bu 2 boyutlu array'in içindeki bütün elemanları hem yavaş yol olan for döngüsüyle hem de daha hızlı yol olan uygun NumPy metoduyla tek tek dönerek ekrana yazdırın.\n",
    "ar4 = np.random.randint(0,10,20).reshape(5,4)\n",
    "for i in ar4:\n",
    "    print(i)\n",
    "    \n",
    "for i in np.nditer(ar4):\n",
    "    print(i)"
   ]
  },
  {
   "cell_type": "code",
   "execution_count": 37,
   "id": "45343f77",
   "metadata": {},
   "outputs": [
    {
     "data": {
      "text/plain": [
       "5.0"
      ]
     },
     "execution_count": 37,
     "metadata": {},
     "output_type": "execute_result"
    }
   ],
   "source": [
    "#5) 5,10,15,20,25,30 değerlerinden oluşan bir boyutlu bir array ve\n",
    "# 1,2,3,4,5,6 değerlerinden oluşan başka bir boyutlu bir array oluşturun.\n",
    "#Bu arraylerinin elemanlarına kendi aralarında 4 işlem uygulayın. \n",
    "#İki arrayinde 1.indexindekiler toplansın/çıkartılsın/çarpılsın/bölünsün gibi\n",
    "ar5 = np.arange(5,35,5)\n",
    "ar6 = np.arange(1,7)\n",
    "ar5[1]+ar6[1]\n",
    "ar5[1]-ar6[1]\n",
    "ar5[1]*ar6[1]\n",
    "ar5[1]/ar6[1]"
   ]
  },
  {
   "cell_type": "code",
   "execution_count": 39,
   "id": "67845a04",
   "metadata": {},
   "outputs": [
    {
     "data": {
      "text/plain": [
       "28.54540243191537"
      ]
     },
     "execution_count": 39,
     "metadata": {},
     "output_type": "execute_result"
    }
   ],
   "source": [
    "#6) 0-100 arası rastgele 10 tam sayıdan oluşan bir array oluşturun ve oluşturulan arrayin sum/mean/max/var/std değerlerini inceleyin.\n",
    "ar7 = np.random.randint(0,100,10)\n",
    "ar7.sum()\n",
    "ar7.max()\n",
    "ar7.var()\n",
    "ar7.std()"
   ]
  },
  {
   "cell_type": "code",
   "execution_count": 41,
   "id": "1db2d3b4",
   "metadata": {},
   "outputs": [
    {
     "data": {
      "text/plain": [
       "array([  0,   1,   2,   3,   4,   5,   6,   7,   8,   9,  10,  11,  12,\n",
       "        13,  14,  15,  16,  17,  18,  19, 500, 501, 502, 503, 504, 505,\n",
       "       506, 507, 508, 509, 510, 511, 512, 513, 514, 515, 516, 517, 518,\n",
       "       519, 520, 521, 522, 523, 524, 525, 526, 527, 528, 529, 530])"
      ]
     },
     "execution_count": 41,
     "metadata": {},
     "output_type": "execute_result"
    }
   ],
   "source": [
    "#7) 0-20 arası(20 dahil değil) tam sayılardan oluşan ve 500-530(530 dahil) arası tam sayılardan oluşan 2 array oluşturun.\n",
    "#Ardından bu iki array'i concatenate ederek ekrana yazdırın.\n",
    "ar8 = np.arange(0,20)\n",
    "ar9= np.arange(500,531)\n",
    "np.concatenate([ar8,ar9],axis = 0)"
   ]
  },
  {
   "cell_type": "code",
   "execution_count": 44,
   "id": "622e72a3",
   "metadata": {},
   "outputs": [
    {
     "data": {
      "text/plain": [
       "array([ 15,  16,  17,  18,  19,  20,  21,  22,  23,  24,  25,  26,  27,\n",
       "        28,  29,  30,  31,  32,  33,  34,  35,  36,  37,  38,  39, 888,\n",
       "       888, 888, 888, 888, 888, 888, 888, 888, 888, 888, 888, 888, 888,\n",
       "       888, 888, 888, 888, 888, 888, 888, 888, 888, 888, 888,  24,  25,\n",
       "        26,  27,  28,  29,  30,  31,  32,  33,  34,  35,  36,  37,  38,\n",
       "        39,  40,  41,  42,  43,  44,  45,  46,  47,  48,  49,  50,  51,\n",
       "        52,  53,  54,  55,  56,  57,  58,  59,  60,  61,  62,  63,  64,\n",
       "        65,  66,  67,  68,  69,  70,  71,  72,  73,  74,  75,  76,  77,\n",
       "        78,  79,  80,  81,  82,  83,  84,  85,  86,  87,  88,  89,  90,\n",
       "        91,  92,  93,  94,  95,  96,  97,  98,  99, 100])"
      ]
     },
     "execution_count": 44,
     "metadata": {},
     "output_type": "execute_result"
    }
   ],
   "source": [
    "#8) 15-50(50 dahil) arası tam sayılardan oluşan bir array oluşturun. \n",
    "#Daha sonra 10-100 arası(100 dahil) tam sayılardan oluşan 2.bir array oluşturun.\n",
    "#Bu 2 arrayi concatanate ederek 3.bir array oluşturun ve bu array'in 25.index ile 50.index'i(50 dahil) arasındaki değerlerini 888 yapın.\n",
    "ar0 = np.arange(15,51)\n",
    "ar10 = np.arange(10,101)\n",
    "ar11 = np.concatenate([ar0,ar10])\n",
    "ar11[25:50]=888\n",
    "ar11"
   ]
  },
  {
   "cell_type": "code",
   "execution_count": 50,
   "id": "792d511a",
   "metadata": {},
   "outputs": [
    {
     "data": {
      "text/plain": [
       "array([[  0,   1,   2,   3,   4, 320, 321, 322, 323, 324],\n",
       "       [  5,   6,   7,   8,   9, 325, 326, 327, 328, 329],\n",
       "       [ 10,  11,  12,  13,  14, 330, 331, 332, 333, 334],\n",
       "       [ 15,  16,  17,  18,  19, 335, 336, 337, 338, 339],\n",
       "       [ 20,  21,  22,  23,  24, 340, 341, 342, 343, 344],\n",
       "       [ 25,  26,  27,  28,  29, 345, 346, 347, 348, 349],\n",
       "       [ 30,  31,  32,  33,  34, 350, 351, 352, 353, 354],\n",
       "       [ 35,  36,  37,  38,  39, 355, 356, 357, 358, 359]])"
      ]
     },
     "execution_count": 50,
     "metadata": {},
     "output_type": "execute_result"
    }
   ],
   "source": [
    "#9) 0-40(40 dahil değil) arası değerlerden oluşan (8,5) shape'inde 2 boyutlu bir array ve\n",
    "#320-360(360 dahil değil) değerlerinden oluşan (8,5) shape'inde 2 boyutlubaşka bir array oluşturun. \n",
    "#Devamında bu iki array'i hem axis = 0'da hem de axis = 1'de concatenate ederek farkı karşılaştırın.\n",
    "\n",
    "ar12 = np.arange(0,40).reshape(8,5)\n",
    "ar13 = np.arange(320,360).reshape(8,5)\n",
    "ar14 = np.concatenate([ar12,ar13],axis=0)\n",
    "ar15= np.concatenate([ar12,ar13],axis=1)\n",
    "ar15\n",
    "ar14"
   ]
  },
  {
   "cell_type": "code",
   "execution_count": 53,
   "id": "448bc60c",
   "metadata": {},
   "outputs": [],
   "source": [
    "#10) 9.Soruda oluşturduğunuz 2 array'i axis = 2'de concatenate etmeye çalışın.\n",
    "#Ardından axis = 2'de stacklemeye(yığınlamaya) çalışın. İkisi arasındaki farkı karşılaştırın.\n",
    "\n",
    "ar16 = np.concatenate([ar12,ar13],axis=2)\n",
    "ar17 = np.stack([ar12,ar13],axis=2)\n",
    "#stackleme yapılabilirken concatenate işlemi belli seviyelerde yapılamaz hata verir\n",
    "ar17"
   ]
  },
  {
   "cell_type": "code",
   "execution_count": 56,
   "id": "3899d225",
   "metadata": {},
   "outputs": [
    {
     "data": {
      "text/plain": [
       "(array([ 5, 13], dtype=int64),)"
      ]
     },
     "execution_count": 56,
     "metadata": {},
     "output_type": "execute_result"
    }
   ],
   "source": [
    "#11) [1, 20, 25, 4, 4, 5, 4, 4, 1, 6, 9, 12, 1, 5] değerlerinden oluşan bir boyutlu bir array oluşturun.\n",
    "#Devamında bu array'in içinde değeri 5'e eşit olan değerlerin indexleri bulun.\n",
    "ar18=np.array([1, 20, 25, 4, 4, 5, 4, 4, 1, 6, 9, 12, 1, 5])\n",
    "np.where(ar18==5)\n"
   ]
  },
  {
   "cell_type": "code",
   "execution_count": 57,
   "id": "9261d2d8",
   "metadata": {},
   "outputs": [
    {
     "data": {
      "text/plain": [
       "(array([ 1,  3,  4,  6,  7,  9, 11], dtype=int64),)"
      ]
     },
     "execution_count": 57,
     "metadata": {},
     "output_type": "execute_result"
    }
   ],
   "source": [
    "#12) Yukarıda oluşturduğunuz array içinde değeri çift olan değerlerin indexlerini bulun.\n",
    "np.where(ar18%2==0)"
   ]
  },
  {
   "cell_type": "code",
   "execution_count": 58,
   "id": "8e52d136",
   "metadata": {},
   "outputs": [
    {
     "data": {
      "text/plain": [
       "(array([ 1,  2,  5,  9, 10, 11, 13], dtype=int64),)"
      ]
     },
     "execution_count": 58,
     "metadata": {},
     "output_type": "execute_result"
    }
   ],
   "source": [
    "#13) Yukarıda oluşturduğunuz array içinde değeri 4'den büyük olan değerlerin indexlerini bulun.\n",
    "np.where(ar18>4)"
   ]
  },
  {
   "cell_type": "code",
   "execution_count": 59,
   "id": "7861ae13",
   "metadata": {},
   "outputs": [
    {
     "data": {
      "text/plain": [
       "(array([ 1,  2,  5,  9, 10, 11, 13], dtype=int64),)"
      ]
     },
     "execution_count": 59,
     "metadata": {},
     "output_type": "execute_result"
    }
   ],
   "source": [
    "#14) Yukarıda oluşturduğunuz array içinde değeri 5'e tam bölünen değerlerin indexlerini bulun.\n",
    "np.where(ar18//5)"
   ]
  },
  {
   "cell_type": "code",
   "execution_count": 70,
   "id": "bfad1fa9",
   "metadata": {},
   "outputs": [
    {
     "data": {
      "text/plain": [
       "97"
      ]
     },
     "execution_count": 70,
     "metadata": {},
     "output_type": "execute_result"
    }
   ],
   "source": [
    "#15) 85-100(100 dahil) arasından rastgele 1 tam sayı seçin\n",
    "ar19 =np.arange(85,100)\n",
    "np.random.choice(ar19)"
   ]
  },
  {
   "cell_type": "code",
   "execution_count": 85,
   "id": "a60602f4",
   "metadata": {},
   "outputs": [
    {
     "data": {
      "text/plain": [
       "array([[43, 89, 78],\n",
       "       [91, 31, 10],\n",
       "       [74, 29, 60]])"
      ]
     },
     "execution_count": 85,
     "metadata": {},
     "output_type": "execute_result"
    }
   ],
   "source": [
    "#16) İki basamaklı tam sayılar arasından rastgele sayılar seçerek (3,3) shape'inde bir array oluşturun.\n",
    "ar20 =np.arange(10,100)\n",
    "sayac = 0\n",
    "b = np.random.choice(ar20,9)\n",
    "b.reshape(3,3)"
   ]
  },
  {
   "cell_type": "code",
   "execution_count": 77,
   "id": "7690216c",
   "metadata": {},
   "outputs": [
    {
     "data": {
      "text/plain": [
       "96"
      ]
     },
     "execution_count": 77,
     "metadata": {},
     "output_type": "execute_result"
    }
   ],
   "source": [
    "ar20 =np.arange(10,100)\n",
    "b = np.random.choice(ar20)\n",
    "b"
   ]
  },
  {
   "cell_type": "code",
   "execution_count": 80,
   "id": "fea8265e",
   "metadata": {},
   "outputs": [
    {
     "data": {
      "text/plain": [
       "46"
      ]
     },
     "execution_count": 80,
     "metadata": {},
     "output_type": "execute_result"
    }
   ],
   "source": [
    "#17) 35-60 arasındaki tam sayılardan bir array oluşturun, ardından bu array içinden rastgele 1 tam sayı seçin.\n",
    "ar22 = np.arange(35,60)\n",
    "np.random.choice(ar22)"
   ]
  },
  {
   "cell_type": "code",
   "execution_count": 82,
   "id": "2dfcd859",
   "metadata": {},
   "outputs": [
    {
     "data": {
      "text/plain": [
       "array([[ 3,  8, 10, 53, 10],\n",
       "       [ 8,  3, 53, 10,  3]])"
      ]
     },
     "execution_count": 82,
     "metadata": {},
     "output_type": "execute_result"
    }
   ],
   "source": [
    "#18) Sadece [3, 8, 10, 53] değerlerinden oluşan (2,5) shape'inde 2 boyutlu bir array oluşturun.\n",
    "ar23 = np.array([3, 8, 10, 53,10,8,3,53,10,3]).reshape(2,5)\n",
    "ar23"
   ]
  },
  {
   "cell_type": "code",
   "execution_count": null,
   "id": "a4ab78dd",
   "metadata": {},
   "outputs": [],
   "source": []
  }
 ],
 "metadata": {
  "kernelspec": {
   "display_name": "Python 3 (ipykernel)",
   "language": "python",
   "name": "python3"
  },
  "language_info": {
   "codemirror_mode": {
    "name": "ipython",
    "version": 3
   },
   "file_extension": ".py",
   "mimetype": "text/x-python",
   "name": "python",
   "nbconvert_exporter": "python",
   "pygments_lexer": "ipython3",
   "version": "3.9.12"
  }
 },
 "nbformat": 4,
 "nbformat_minor": 5
}
